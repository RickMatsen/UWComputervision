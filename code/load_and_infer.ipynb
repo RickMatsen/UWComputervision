{
 "cells": [
  {
   "cell_type": "code",
   "execution_count": 1,
   "metadata": {},
   "outputs": [],
   "source": [
    "%load_ext autoreload\n",
    "%autoreload 2"
   ]
  },
  {
   "cell_type": "code",
   "execution_count": 2,
   "metadata": {},
   "outputs": [],
   "source": [
    "import matplotlib.pyplot as plt\n",
    "from IPython.display import clear_output\n",
    "plt.plot([0,1], [0,1])\n",
    "plt.show()\n",
    "clear_output()"
   ]
  },
  {
   "cell_type": "code",
   "execution_count": 3,
   "metadata": {},
   "outputs": [],
   "source": [
    "import torch\n",
    "from torchvision import transforms, datasets, models\n",
    "from torch.utils.data import Dataset, DataLoader\n",
    "import torch.nn as nn\n",
    "from utils.helper import set_seed\n",
    "from matplotlib import pyplot as plt\n",
    "from utils.xray_plot import draw_pred\n",
    "import os\n",
    "import re\n",
    "import random\n",
    "from matplotlib import pyplot as plt\n",
    "import json\n",
    "import cv2\n",
    "#import skimage\n",
    "import numpy as np\n",
    "from collections import OrderedDict\n",
    "import torchvision\n",
    "\n",
    "device = \"cuda\" if torch.cuda.is_available() else \"cpu\"\n",
    "import torch"
   ]
  },
  {
   "cell_type": "code",
   "execution_count": 4,
   "metadata": {},
   "outputs": [],
   "source": [
    "transform_pipeline =  transforms.Compose([\n",
    "     lambda x: x/255,\n",
    "                               transforms.Normalize(\n",
    "                                    mean=[0.485, 0.456, 0.406],\n",
    "                                    std=[0.229, 0.224, 0.225])\n",
    "                                    ])"
   ]
  },
  {
   "cell_type": "code",
   "execution_count": 5,
   "metadata": {},
   "outputs": [
    {
     "name": "stderr",
     "output_type": "stream",
     "text": [
      "c:\\Users\\akame\\AppData\\Local\\Programs\\Python\\Python310\\lib\\site-packages\\torchvision\\models\\_utils.py:208: UserWarning: The parameter 'pretrained' is deprecated since 0.13 and may be removed in the future, please use 'weights' instead.\n",
      "  warnings.warn(\n",
      "c:\\Users\\akame\\AppData\\Local\\Programs\\Python\\Python310\\lib\\site-packages\\torchvision\\models\\_utils.py:223: UserWarning: Arguments other than a weight enum or `None` for 'weights' are deprecated since 0.13 and may be removed in the future. The current behavior is equivalent to passing `weights=None`.\n",
      "  warnings.warn(msg)\n"
     ]
    },
    {
     "data": {
      "text/plain": [
       "<All keys matched successfully>"
      ]
     },
     "execution_count": 5,
     "metadata": {},
     "output_type": "execute_result"
    }
   ],
   "source": [
    "##? \n",
    "def resnet34(outshape):\n",
    "    resnet = models.resnet34(pretrained=False)\n",
    "    num_features = resnet.fc.in_features\n",
    "    resnet.fc = nn.Linear(num_features, outshape)\n",
    "    return resnet\n",
    "output_size=13\n",
    "pretrained_model = resnet34(output_size)\n",
    "\n",
    "class XrayPretrained(nn.Module):\n",
    "    def __init__(self):\n",
    "        super(XrayPretrained, self).__init__()\n",
    "        self.resnet = pretrained_model # output size = resnet18_shape\n",
    "\n",
    "    def forward(self, x):\n",
    "        x = self.resnet(x)\n",
    "        return x\n",
    "    \n",
    "model = XrayPretrained()    \n",
    "model.load_state_dict(torch.load(\"041305-resnet34-6000ep.pth\", map_location=torch.device('cpu')))\n"
   ]
  },
  {
   "cell_type": "code",
   "execution_count": 7,
   "metadata": {},
   "outputs": [],
   "source": [
    "# mean=[0.485, 0.456, 0.406],\n",
    "#                                     std=[0.229, 0.224, 0.225])\n",
    "invTrans = transforms.Compose([ transforms.Normalize(mean = [ 0., 0., 0. ],\n",
    "                                                     std = [ 1/0.229, 1/0.224, 1/0.225 ]),\n",
    "                                transforms.Normalize(mean = [ -0.485, -0.456, -0.406 ],\n",
    "                                                     std = [ 1., 1., 1. ]),\n",
    "                                lambda x: x*255\n",
    "                               ])\n",
    "\n"
   ]
  },
  {
   "cell_type": "code",
   "execution_count": 8,
   "metadata": {},
   "outputs": [],
   "source": [
    "# run inference on unlabeled images\n",
    "test_dir = \"data_unann_padded\"\n",
    "test_images = os.listdir(test_dir)[:20]"
   ]
  },
  {
   "cell_type": "code",
   "execution_count": 9,
   "metadata": {},
   "outputs": [
    {
     "name": "stdout",
     "output_type": "stream",
     "text": [
      "data_unann_padded\\1014.postopAxillary.jpg\n",
      "data_unann_padded\\1014.preopAxillary.jpg\n",
      "data_unann_padded\\1023_axillary postop.png\n",
      "data_unann_padded\\1027_axillary post op.png\n",
      "data_unann_padded\\1027_axillary pre op.png\n",
      "data_unann_padded\\1031_ax post op.png\n",
      "data_unann_padded\\1031_ax pre op.png\n",
      "data_unann_padded\\1034_ax post op.png\n",
      "data_unann_padded\\1036.postopAxillary.jpg\n",
      "data_unann_padded\\1036.preopAxillary.jpg\n",
      "data_unann_padded\\1037.2ndpostopAxillary.jpg\n",
      "data_unann_padded\\1037.postopAxillary.jpg\n",
      "data_unann_padded\\1037.preopAxillary.jpg\n",
      "data_unann_padded\\1046.postopAxillary.jpg\n",
      "data_unann_padded\\1046.preopAxillary.jpg\n",
      "data_unann_padded\\1048.preopAx.jpg\n",
      "data_unann_padded\\1049_ax post op.png\n",
      "data_unann_padded\\1049_ax pre op.png\n",
      "data_unann_padded\\1050_ax pre op.png\n",
      "data_unann_padded\\1051.postopAxillary.jpg\n"
     ]
    }
   ],
   "source": [
    "def extract_img(img_name):\n",
    "    sample_image = os.path.join(test_dir, img_name)\n",
    "    print(sample_image)\n",
    "    img = cv2.imread(sample_image)\n",
    "    if img is None:\n",
    "        print(\"Error: Image not loaded. Check the file path.\")\n",
    "    resized_img = cv2.resize(img, (256,256))\n",
    "    img = torch.from_numpy(resized_img).permute(2, 1, 0)\n",
    "    img = transform_pipeline(img)\n",
    "    return img\n",
    "unlabeled_x = torch.stack( [extract_img(n) for n in test_images]) "
   ]
  },
  {
   "cell_type": "code",
   "execution_count": 10,
   "metadata": {},
   "outputs": [
    {
     "data": {
      "text/plain": [
       "torch.Size([20, 3, 256, 256])"
      ]
     },
     "execution_count": 10,
     "metadata": {},
     "output_type": "execute_result"
    }
   ],
   "source": [
    "unlabeled_x.shape"
   ]
  },
  {
   "cell_type": "code",
   "execution_count": 11,
   "metadata": {},
   "outputs": [],
   "source": [
    "model.eval()\n",
    "\n",
    "with torch.no_grad():\n",
    "  # Get the predictions from the model\n",
    "    outputs = model(unlabeled_x)\n"
   ]
  },
  {
   "cell_type": "code",
   "execution_count": 12,
   "metadata": {},
   "outputs": [],
   "source": [
    "inv_unlabeled_x = invTrans(unlabeled_x)"
   ]
  },
  {
   "cell_type": "code",
   "execution_count": 13,
   "metadata": {},
   "outputs": [],
   "source": [
    "idx = 0"
   ]
  },
  {
   "cell_type": "code",
   "execution_count": 34,
   "metadata": {},
   "outputs": [
    {
     "ename": "IndexError",
     "evalue": "index 20 is out of bounds for dimension 0 with size 20",
     "output_type": "error",
     "traceback": [
      "\u001b[1;31m---------------------------------------------------------------------------\u001b[0m",
      "\u001b[1;31mIndexError\u001b[0m                                Traceback (most recent call last)",
      "Cell \u001b[1;32mIn[34], line 2\u001b[0m\n\u001b[0;32m      1\u001b[0m plt\u001b[38;5;241m.\u001b[39mfigure(figsize\u001b[38;5;241m=\u001b[39m(\u001b[38;5;241m20\u001b[39m, \u001b[38;5;241m8\u001b[39m))\n\u001b[1;32m----> 2\u001b[0m \u001b[43mdraw_pred\u001b[49m\u001b[43m(\u001b[49m\u001b[43minv_unlabeled_x\u001b[49m\u001b[43m,\u001b[49m\u001b[43m \u001b[49m\u001b[43moutputs\u001b[49m\u001b[43m,\u001b[49m\u001b[43m \u001b[49m\u001b[43midx\u001b[49m\u001b[43m)\u001b[49m\n\u001b[0;32m      3\u001b[0m idx\u001b[38;5;241m+\u001b[39m\u001b[38;5;241m=\u001b[39m\u001b[38;5;241m1\u001b[39m\n",
      "File \u001b[1;32mc:\\Users\\akame\\Documents\\GitHub\\cvav\\utils\\xray_plot.py:15\u001b[0m, in \u001b[0;36mdraw_pred\u001b[1;34m(X, y, idx, num_ell, num_pts)\u001b[0m\n\u001b[0;32m     12\u001b[0m labels \u001b[38;5;241m=\u001b[39m \u001b[38;5;28miter\u001b[39m(ordered_labels)\n\u001b[0;32m     14\u001b[0m \u001b[38;5;66;03m# the first 5 used to be ellipse\u001b[39;00m\n\u001b[1;32m---> 15\u001b[0m ellipses \u001b[38;5;241m=\u001b[39m \u001b[43my\u001b[49m\u001b[43m[\u001b[49m\u001b[43midx\u001b[49m\u001b[43m,\u001b[49m\u001b[43m \u001b[49m\u001b[43m:\u001b[49m\u001b[43m]\u001b[49m[:\u001b[38;5;241m5\u001b[39m]\n\u001b[0;32m     16\u001b[0m points \u001b[38;5;241m=\u001b[39m y[idx, :][\u001b[38;5;241m5\u001b[39m:]\n\u001b[0;32m     17\u001b[0m \u001b[38;5;28mprint\u001b[39m(ellipses)\n",
      "\u001b[1;31mIndexError\u001b[0m: index 20 is out of bounds for dimension 0 with size 20"
     ]
    },
    {
     "data": {
      "text/plain": [
       "<Figure size 2000x800 with 0 Axes>"
      ]
     },
     "metadata": {},
     "output_type": "display_data"
    }
   ],
   "source": [
    "plt.figure(figsize=(20, 8))\n",
    "draw_pred(inv_unlabeled_x, outputs, idx)\n",
    "idx+=1"
   ]
  },
  {
   "cell_type": "code",
   "execution_count": null,
   "metadata": {},
   "outputs": [],
   "source": []
  }
 ],
 "metadata": {
  "kernelspec": {
   "display_name": "Python 3",
   "language": "python",
   "name": "python3"
  },
  "language_info": {
   "codemirror_mode": {
    "name": "ipython",
    "version": 3
   },
   "file_extension": ".py",
   "mimetype": "text/x-python",
   "name": "python",
   "nbconvert_exporter": "python",
   "pygments_lexer": "ipython3",
   "version": "3.10.5"
  }
 },
 "nbformat": 4,
 "nbformat_minor": 2
}
